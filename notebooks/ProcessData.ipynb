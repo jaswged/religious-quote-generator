{
 "cells": [
  {
   "cell_type": "code",
   "execution_count": 1,
   "metadata": {},
   "outputs": [],
   "source": [
    "import pandas as pd"
   ]
  },
  {
   "cell_type": "code",
   "execution_count": 11,
   "metadata": {},
   "outputs": [],
   "source": [
    "path = '../data/raw/'\n",
    "final_path = '../data/final/'"
   ]
  },
  {
   "cell_type": "markdown",
   "metadata": {},
   "source": [
    "## Bible"
   ]
  },
  {
   "cell_type": "code",
   "execution_count": 12,
   "metadata": {},
   "outputs": [
    {
     "name": "stdout",
     "output_type": "stream",
     "text": [
      "Columns: Index(['id', 'b', 'c', 'v', 't'], dtype='object')\n",
      "Shape: (31103, 5)\n",
      "        id  b  c   v                                                  t\n",
      "0  1001001  1  1   1  In the beginning God created the heaven and th...\n",
      "1  1001002  1  1   2  And the earth was without form, and void; and ...\n",
      "2  1001003  1  1   3  And God said, Let there be light: and there wa...\n",
      "3  1001004  1  1   4  And God saw the light, that it was good: and G...\n",
      "4  1001005  1  1   5  And God called the light Day, and the darkness...\n",
      "5  1001006  1  1   6  And God said, Let there be a firmament in the ...\n",
      "6  1001007  1  1   7  And God made the firmament, and divided the wa...\n",
      "7  1001008  1  1   8  And God called the firmament Heaven. And the e...\n",
      "8  1001009  1  1   9  And God said, Let the waters under the heaven ...\n",
      "9  1001010  1  1  10  And God called the dry land Earth; and the gat...\n"
     ]
    }
   ],
   "source": [
    "bible = pd.read_csv(path+\"bible_kjv.csv\")\n",
    "\n",
    "# Print the names of the columns.\n",
    "print(\"Columns: {}\".format(bible.columns))\n",
    "print(\"Shape: {}\".format(bible.shape))\n",
    "print(bible.head(10))"
   ]
  },
  {
   "cell_type": "code",
   "execution_count": 24,
   "metadata": {},
   "outputs": [
    {
     "name": "stdout",
     "output_type": "stream",
     "text": [
      "Look at the first row\n",
      "id                                                1001001\n",
      "text    In the beginning God created the heaven and th...\n",
      "Name: 0, dtype: object\n",
      "\n",
      "Look at a the half way row\n",
      "id                                               19103002\n",
      "text    Bless the LORD, O my soul, and forget not all ...\n",
      "Name: 15551, dtype: object\n",
      "\n",
      "Look at the last row\n",
      "id                                               66022021\n",
      "text    The grace of our Lord Jesus Christ be with you...\n",
      "Name: 31102, dtype: object\n"
     ]
    }
   ],
   "source": [
    "# Lets explore the dataset and do a few visualizations\n",
    "print(\"Look at the first row\")\n",
    "print(bible.iloc[0])\n",
    "\n",
    "print(\"\\nLook at a the half way row\")\n",
    "print(bible.iloc[int(len(bible) /2)]) \n",
    "# Iloc is Integer location. ie iloc[10] = 10th row\n",
    "print(\"\\nLook at the last row\")\n",
    "print(bible.iloc[len(data) -1 ]) # Integer location. ie 10th row"
   ]
  },
  {
   "cell_type": "code",
   "execution_count": 19,
   "metadata": {},
   "outputs": [],
   "source": [
    "bible.drop(['b','c','v'], axis=1, inplace=True)"
   ]
  },
  {
   "cell_type": "code",
   "execution_count": 20,
   "metadata": {},
   "outputs": [],
   "source": [
    "bible.columns = ['id', 'text']"
   ]
  },
  {
   "cell_type": "markdown",
   "metadata": {},
   "source": [
    "## Quran"
   ]
  },
  {
   "cell_type": "code",
   "execution_count": 21,
   "metadata": {},
   "outputs": [
    {
     "name": "stdout",
     "output_type": "stream",
     "text": [
      "Columns: Index(['surah_number', 'verse_number', 'text', 'translation'], dtype='object')\n",
      "Shape: (6236, 4)\n",
      "   surah_number  verse_number  \\\n",
      "0             1             1   \n",
      "1             1             2   \n",
      "2             1             3   \n",
      "3             1             4   \n",
      "4             1             5   \n",
      "5             1             6   \n",
      "6             1             7   \n",
      "7             2             1   \n",
      "8             2             2   \n",
      "9             2             3   \n",
      "\n",
      "                                                text  \\\n",
      "0             بِسْمِ ٱللَّهِ ٱلرَّحْمَٰنِ ٱلرَّحِيمِ   \n",
      "1              ٱلْحَمْدُ لِلَّهِ رَبِّ ٱلْعَٰلَمِينَ   \n",
      "2                            ٱلرَّحْمَٰنِ ٱلرَّحِيمِ   \n",
      "3                            مَٰلِكِ يَوْمِ ٱلدِّينِ   \n",
      "4           إِيَّاكَ نَعْبُدُ وَإِيَّاكَ نَسْتَعِينُ   \n",
      "5                 ٱهْدِنَا ٱلصِّرَٰطَ ٱلْمُسْتَقِيمَ   \n",
      "6  صِرَٰطَ ٱلَّذِينَ أَنْعَمْتَ عَلَيْهِمْ غَيْرِ...   \n",
      "7       بِسْمِ ٱللَّهِ ٱلرَّحْمَٰنِ ٱلرَّحِيمِ الٓمٓ   \n",
      "8  ذَٰلِكَ ٱلْكِتَٰبُ لَا رَيْبَ فِيهِ هُدًى لِّل...   \n",
      "9  ٱلَّذِينَ يُؤْمِنُونَ بِٱلْغَيْبِ وَيُقِيمُونَ...   \n",
      "\n",
      "                                         translation  \n",
      "0  In the name of Allah, the Entirely Merciful, t...  \n",
      "1  [All] praise is [due] to Allah, Lord of the wo...  \n",
      "2    The Entirely Merciful, the Especially Merciful,  \n",
      "3                Sovereign of the Day of Recompense.  \n",
      "4      It is You we worship and You we ask for help.  \n",
      "5                    Guide us to the straight path -  \n",
      "6  The path of those upon whom You have bestowed ...  \n",
      "7                                   Alif, Lam, Meem.  \n",
      "8  This is the Book about which there is no doubt...  \n",
      "9  Who believe in the unseen, establish prayer, a...  \n"
     ]
    }
   ],
   "source": [
    "quran = pd.read_json(path+\"quran.json\")\n",
    "\n",
    "# Print the names of the columns.\n",
    "print(\"Columns: {}\".format(quran.columns))\n",
    "print(\"Shape: {}\".format(quran.shape))\n",
    "print(quran.head(10))"
   ]
  },
  {
   "cell_type": "code",
   "execution_count": 27,
   "metadata": {},
   "outputs": [
    {
     "name": "stdout",
     "output_type": "stream",
     "text": [
      "Look at the first row\n",
      "surah_number                                                    1\n",
      "verse_number                                                    1\n",
      "text                       بِسْمِ ٱللَّهِ ٱلرَّحْمَٰنِ ٱلرَّحِيمِ\n",
      "translation     In the name of Allah, the Entirely Merciful, t...\n",
      "Name: 0, dtype: object\n",
      "\n",
      "Look at a the half way row\n",
      "surah_number                                                   26\n",
      "verse_number                                                  187\n",
      "text            فَأَسْقِطْ عَلَيْنَا كِسَفًا مِّنَ ٱلسَّمَآءِ...\n",
      "translation     So cause to fall upon us fragments of the sky,...\n",
      "Name: 3118, dtype: object\n",
      "\n",
      "Look at the last row\n",
      "surah_number                                  114\n",
      "verse_number                                    6\n",
      "text                   مِنَ ٱلْجِنَّةِ وَٱلنَّاسِ\n",
      "translation     From among the jinn and mankind.\"\n",
      "Name: 6235, dtype: object\n"
     ]
    }
   ],
   "source": [
    "# Lets explore the dataset and do a few visualizations\n",
    "print(\"Look at the first row\")\n",
    "print(quran.iloc[0])\n",
    "\n",
    "print(\"\\nLook at a the half way row\")\n",
    "print(quran.iloc[int(len(quran) /2)]) \n",
    "# Iloc is Integer location. ie iloc[10] = 10th row\n",
    "print(\"\\nLook at the last row\")\n",
    "print(quran.iloc[len(quran) -1 ]) # Integer location. ie 10th row"
   ]
  },
  {
   "cell_type": "code",
   "execution_count": 28,
   "metadata": {},
   "outputs": [],
   "source": [
    "quran.drop(['surah_number', 'verse_number', 'text'], axis=1, inplace=True)"
   ]
  },
  {
   "cell_type": "code",
   "execution_count": 34,
   "metadata": {},
   "outputs": [
    {
     "data": {
      "text/plain": [
       "translation    From among the jinn and mankind.\"\n",
       "Name: 6235, dtype: object"
      ]
     },
     "execution_count": 34,
     "metadata": {},
     "output_type": "execute_result"
    }
   ],
   "source": [
    "quran.iloc[len(quran) -1]"
   ]
  },
  {
   "cell_type": "markdown",
   "metadata": {},
   "source": [
    "### Union the dataframes together"
   ]
  },
  {
   "cell_type": "code",
   "execution_count": null,
   "metadata": {},
   "outputs": [],
   "source": [
    "bible.union(quran)"
   ]
  },
  {
   "cell_type": "code",
   "execution_count": null,
   "metadata": {},
   "outputs": [],
   "source": []
  },
  {
   "cell_type": "code",
   "execution_count": null,
   "metadata": {},
   "outputs": [],
   "source": []
  },
  {
   "cell_type": "markdown",
   "metadata": {},
   "source": [
    "## Save the new dataframe"
   ]
  },
  {
   "cell_type": "code",
   "execution_count": null,
   "metadata": {},
   "outputs": [],
   "source": [
    "file_name = final_path + 'religiousTexts.csv'"
   ]
  },
  {
   "cell_type": "code",
   "execution_count": null,
   "metadata": {},
   "outputs": [],
   "source": [
    "df.to_csv(file_name, sep='\\t', encoding='utf-8')"
   ]
  }
 ],
 "metadata": {
  "kernelspec": {
   "display_name": "Python 3",
   "language": "python",
   "name": "python3"
  },
  "language_info": {
   "codemirror_mode": {
    "name": "ipython",
    "version": 3
   },
   "file_extension": ".py",
   "mimetype": "text/x-python",
   "name": "python",
   "nbconvert_exporter": "python",
   "pygments_lexer": "ipython3",
   "version": "3.7.4"
  }
 },
 "nbformat": 4,
 "nbformat_minor": 2
}
