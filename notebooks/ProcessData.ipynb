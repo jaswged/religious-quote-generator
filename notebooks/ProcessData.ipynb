{
 "cells": [
  {
   "cell_type": "code",
   "execution_count": 1,
   "metadata": {},
   "outputs": [],
   "source": [
    "import pandas as pd"
   ]
  },
  {
   "cell_type": "code",
   "execution_count": 2,
   "metadata": {},
   "outputs": [],
   "source": [
    "path = '../data/raw/'\n",
    "final_path = '../data/final/'"
   ]
  },
  {
   "cell_type": "markdown",
   "metadata": {},
   "source": [
    "## Bible"
   ]
  },
  {
   "cell_type": "code",
   "execution_count": 3,
   "metadata": {},
   "outputs": [
    {
     "name": "stdout",
     "output_type": "stream",
     "text": [
      "Columns: Index(['id', 'b', 'c', 'v', 't'], dtype='object')\n",
      "Shape: (31103, 5)\n",
      "        id  b  c  v                                                  t\n",
      "0  1001001  1  1  1  In the beginning God created the heaven and th...\n",
      "1  1001002  1  1  2  And the earth was without form, and void; and ...\n",
      "2  1001003  1  1  3  And God said, Let there be light: and there wa...\n",
      "3  1001004  1  1  4  And God saw the light, that it was good: and G...\n",
      "4  1001005  1  1  5  And God called the light Day, and the darkness...\n"
     ]
    }
   ],
   "source": [
    "bible = pd.read_csv(path + \"bible_kjv.csv\")\n",
    "\n",
    "# Print the names of the columns.\n",
    "print(\"Columns: {}\".format(bible.columns))\n",
    "print(\"Shape: {}\".format(bible.shape))\n",
    "print(bible.head(5))"
   ]
  },
  {
   "cell_type": "code",
   "execution_count": null,
   "metadata": {},
   "outputs": [],
   "source": [
    "print(\"Look at the first row\")\n",
    "print(bible.iloc[0])\n",
    "\n",
    "print(\"\\nLook at a the half way row\")\n",
    "print(bible.iloc[int(len(bible) /2)]) \n",
    "\n",
    "print(\"\\nLook at the last row\")\n",
    "print(bible.iloc[len(bible) -1 ]) "
   ]
  },
  {
   "cell_type": "code",
   "execution_count": 4,
   "metadata": {},
   "outputs": [],
   "source": [
    "bible.drop(['id', 'b', 'c', 'v'], axis=1, inplace=True)"
   ]
  },
  {
   "cell_type": "code",
   "execution_count": 5,
   "metadata": {},
   "outputs": [],
   "source": [
    "bible.columns = ['text']"
   ]
  },
  {
   "cell_type": "code",
   "execution_count": 6,
   "metadata": {},
   "outputs": [
    {
     "name": "stdout",
     "output_type": "stream",
     "text": [
      "                                                text\n",
      "0  In the beginning God created the heaven and th...\n",
      "                                                text\n",
      "0  He that trusteth in his own heart is a fool: b...\n"
     ]
    }
   ],
   "source": [
    "print(bible.head(1))\n",
    "bible = bible.sample(frac=1).reset_index(drop=True)\n",
    "print(bible.head(1))"
   ]
  },
  {
   "cell_type": "markdown",
   "metadata": {},
   "source": [
    "## Quran"
   ]
  },
  {
   "cell_type": "code",
   "execution_count": 7,
   "metadata": {},
   "outputs": [
    {
     "name": "stdout",
     "output_type": "stream",
     "text": [
      "Columns: Index(['surah_number', 'verse_number', 'text', 'translation'], dtype='object')\n",
      "Shape: (6236, 4)\n",
      "   surah_number  verse_number                                    text  \\\n",
      "0             1             1  بِسْمِ ٱللَّهِ ٱلرَّحْمَٰنِ ٱلرَّحِيمِ   \n",
      "1             1             2   ٱلْحَمْدُ لِلَّهِ رَبِّ ٱلْعَٰلَمِينَ   \n",
      "\n",
      "                                         translation  \n",
      "0  In the name of Allah, the Entirely Merciful, t...  \n",
      "1  [All] praise is [due] to Allah, Lord of the wo...  \n"
     ]
    }
   ],
   "source": [
    "quran = pd.read_json(path+\"quran.json\")\n",
    "\n",
    "# Print the names of the columns.\n",
    "print(\"Columns: {}\".format(quran.columns))\n",
    "print(\"Shape: {}\".format(quran.shape))\n",
    "print(quran.head(2))"
   ]
  },
  {
   "cell_type": "code",
   "execution_count": null,
   "metadata": {},
   "outputs": [],
   "source": [
    "print(\"Look at the first row\")\n",
    "print(quran.iloc[0])\n",
    "\n",
    "print(\"\\nLook at a the half way row\")\n",
    "print(quran.iloc[int(len(quran) /2)]) \n",
    "\n",
    "print(\"\\nLook at the last row\")\n",
    "print(quran.iloc[len(quran) -1 ])"
   ]
  },
  {
   "cell_type": "code",
   "execution_count": 8,
   "metadata": {},
   "outputs": [],
   "source": [
    "quran.drop(['surah_number', 'verse_number', 'text'], axis=1, inplace=True)"
   ]
  },
  {
   "cell_type": "code",
   "execution_count": 19,
   "metadata": {},
   "outputs": [],
   "source": [
    "quran.columns = ['text']"
   ]
  },
  {
   "cell_type": "code",
   "execution_count": 20,
   "metadata": {},
   "outputs": [
    {
     "data": {
      "text/plain": [
       "text    So will you dispute with him over what he saw?\n",
       "Name: 6235, dtype: object"
      ]
     },
     "execution_count": 20,
     "metadata": {},
     "output_type": "execute_result"
    }
   ],
   "source": [
    "quran.iloc[len(quran) -1]"
   ]
  },
  {
   "cell_type": "code",
   "execution_count": 21,
   "metadata": {},
   "outputs": [
    {
     "name": "stdout",
     "output_type": "stream",
     "text": [
      "                                                text\n",
      "0  Or have they taken gods besides Him? Say, [O M...\n",
      "                                                text\n",
      "0  Abiding therein forever, they will not find a ...\n"
     ]
    }
   ],
   "source": [
    "# Shuffle dataset\n",
    "print(quran.head(1))\n",
    "quran = quran.sample(frac=1).reset_index(drop=True)\n",
    "print(quran.head(1))"
   ]
  },
  {
   "cell_type": "code",
   "execution_count": 22,
   "metadata": {},
   "outputs": [
    {
     "data": {
      "text/plain": [
       "0       Abiding therein forever, they will not find a ...\n",
       "1       Say, [O Muhammad], \"It has been revealed to me...\n",
       "2       And whoever turned away after that - they were...\n",
       "3       O you who have believed, do not take the disbe...\n",
       "4       It is He who sent His Messenger with guidance ...\n",
       "                              ...                        \n",
       "6231    They said, \"O Dhul-Qarnayn, indeed Gog and Mag...\n",
       "6232    And the good land - its vegetation emerges by ...\n",
       "6233                        But for your Lord be patient.\n",
       "6234    They believe in Allah and the Last Day, and th...\n",
       "6235    Then is He who creates like one who does not c...\n",
       "Length: 6236, dtype: object"
      ]
     },
     "execution_count": 22,
     "metadata": {},
     "output_type": "execute_result"
    }
   ],
   "source": [
    "quran.head(1)\n",
    "quran.max(axis=1)"
   ]
  },
  {
   "cell_type": "markdown",
   "metadata": {},
   "source": [
    "### Union the dataframes together"
   ]
  },
  {
   "cell_type": "code",
   "execution_count": 23,
   "metadata": {},
   "outputs": [],
   "source": [
    "rel_texts = pd.concat([bible, quran], sort=False)"
   ]
  },
  {
   "cell_type": "code",
   "execution_count": 24,
   "metadata": {},
   "outputs": [
    {
     "name": "stdout",
     "output_type": "stream",
     "text": [
      "(37339, 1)\n"
     ]
    }
   ],
   "source": [
    "print(rel_texts.shape)"
   ]
  },
  {
   "cell_type": "code",
   "execution_count": 25,
   "metadata": {},
   "outputs": [
    {
     "name": "stdout",
     "output_type": "stream",
     "text": [
      "                                                text\n",
      "0  He that trusteth in his own heart is a fool: b...\n",
      "1  And the rest of the acts of Pekahiah, and all ...\n",
      "2  And it came to pass, afore Isaiah was gone out...\n",
      "3  And as a yearly hired servant shall he be with...\n",
      "4  And when they had blindfolded him, they struck...\n"
     ]
    }
   ],
   "source": [
    "print(rel_texts.head(5))"
   ]
  },
  {
   "cell_type": "code",
   "execution_count": 26,
   "metadata": {},
   "outputs": [
    {
     "name": "stdout",
     "output_type": "stream",
     "text": [
      "                                                text\n",
      "0  He that trusteth in his own heart is a fool: b...\n",
      "                                                text\n",
      "0  And he saved them from the hand of him that ha...\n"
     ]
    }
   ],
   "source": [
    "print(rel_texts.head(1))\n",
    "rel_texts = rel_texts.sample(frac=1).reset_index(drop=True)\n",
    "print(rel_texts.head(1))"
   ]
  },
  {
   "cell_type": "code",
   "execution_count": null,
   "metadata": {},
   "outputs": [],
   "source": []
  },
  {
   "cell_type": "markdown",
   "metadata": {},
   "source": [
    "## Save the new dataframe"
   ]
  },
  {
   "cell_type": "code",
   "execution_count": 27,
   "metadata": {},
   "outputs": [],
   "source": [
    "file_name = final_path + 'religiousTexts.csv'"
   ]
  },
  {
   "cell_type": "code",
   "execution_count": 30,
   "metadata": {},
   "outputs": [],
   "source": [
    "import os\n",
    "import csv\n",
    "if not os.path.isdir(final_path):\n",
    "   os.makedirs(final_path)\n",
    "rel_texts.to_csv(file_name, sep='\\t', encoding='utf-8', quoting=csv.QUOTE_NONNUMERIC)"
   ]
  },
  {
   "cell_type": "code",
   "execution_count": 29,
   "metadata": {},
   "outputs": [
    {
     "data": {
      "text/html": [
       "<div>\n",
       "<style scoped>\n",
       "    .dataframe tbody tr th:only-of-type {\n",
       "        vertical-align: middle;\n",
       "    }\n",
       "\n",
       "    .dataframe tbody tr th {\n",
       "        vertical-align: top;\n",
       "    }\n",
       "\n",
       "    .dataframe thead th {\n",
       "        text-align: right;\n",
       "    }\n",
       "</style>\n",
       "<table border=\"1\" class=\"dataframe\">\n",
       "  <thead>\n",
       "    <tr style=\"text-align: right;\">\n",
       "      <th></th>\n",
       "      <th>text</th>\n",
       "    </tr>\n",
       "  </thead>\n",
       "  <tbody>\n",
       "    <tr>\n",
       "      <td>0</td>\n",
       "      <td>And he saved them from the hand of him that ha...</td>\n",
       "    </tr>\n",
       "    <tr>\n",
       "      <td>1</td>\n",
       "      <td>We relate to you, [O Muhammad], the best of st...</td>\n",
       "    </tr>\n",
       "    <tr>\n",
       "      <td>2</td>\n",
       "      <td>There shall be no more thence an infant of day...</td>\n",
       "    </tr>\n",
       "    <tr>\n",
       "      <td>3</td>\n",
       "      <td>And I looked, and, lo, a Lamb stood on the mou...</td>\n",
       "    </tr>\n",
       "    <tr>\n",
       "      <td>4</td>\n",
       "      <td>A reproof entereth more into a wise man than a...</td>\n",
       "    </tr>\n",
       "  </tbody>\n",
       "</table>\n",
       "</div>"
      ],
      "text/plain": [
       "                                                text\n",
       "0  And he saved them from the hand of him that ha...\n",
       "1  We relate to you, [O Muhammad], the best of st...\n",
       "2  There shall be no more thence an infant of day...\n",
       "3  And I looked, and, lo, a Lamb stood on the mou...\n",
       "4  A reproof entereth more into a wise man than a..."
      ]
     },
     "execution_count": 29,
     "metadata": {},
     "output_type": "execute_result"
    }
   ],
   "source": [
    "rel_texts.head(5)"
   ]
  },
  {
   "cell_type": "code",
   "execution_count": null,
   "metadata": {},
   "outputs": [],
   "source": []
  }
 ],
 "metadata": {
  "kernelspec": {
   "display_name": "Python 3",
   "language": "python",
   "name": "python3"
  },
  "language_info": {
   "codemirror_mode": {
    "name": "ipython",
    "version": 3
   },
   "file_extension": ".py",
   "mimetype": "text/x-python",
   "name": "python",
   "nbconvert_exporter": "python",
   "pygments_lexer": "ipython3",
   "version": "3.7.4"
  }
 },
 "nbformat": 4,
 "nbformat_minor": 2
}
