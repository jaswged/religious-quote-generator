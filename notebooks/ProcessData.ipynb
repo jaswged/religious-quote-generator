{
 "cells": [
  {
   "cell_type": "code",
   "execution_count": 1,
   "metadata": {},
   "outputs": [],
   "source": [
    "import pandas as pd"
   ]
  },
  {
   "cell_type": "code",
   "execution_count": 2,
   "metadata": {},
   "outputs": [],
   "source": [
    "path = '../data/raw/'\n",
    "final_path = '../data/final/'"
   ]
  },
  {
   "cell_type": "markdown",
   "metadata": {},
   "source": [
    "## Bible"
   ]
  },
  {
   "cell_type": "code",
   "execution_count": 3,
   "metadata": {},
   "outputs": [
    {
     "name": "stdout",
     "output_type": "stream",
     "text": [
      "Columns: Index(['id', 'b', 'c', 'v', 't'], dtype='object')\n",
      "Shape: (31103, 5)\n",
      "        id  b  c  v                                                  t\n",
      "0  1001001  1  1  1  In the beginning God created the heaven and th...\n",
      "1  1001002  1  1  2  And the earth was without form, and void; and ...\n",
      "2  1001003  1  1  3  And God said, Let there be light: and there wa...\n",
      "3  1001004  1  1  4  And God saw the light, that it was good: and G...\n",
      "4  1001005  1  1  5  And God called the light Day, and the darkness...\n"
     ]
    }
   ],
   "source": [
    "bible = pd.read_csv(path + \"bible_kjv.csv\")\n",
    "\n",
    "# Print the names of the columns.\n",
    "print(\"Columns: {}\".format(bible.columns))\n",
    "print(\"Shape: {}\".format(bible.shape))\n",
    "print(bible.head(5))"
   ]
  },
  {
   "cell_type": "code",
   "execution_count": 4,
   "metadata": {},
   "outputs": [
    {
     "name": "stdout",
     "output_type": "stream",
     "text": [
      "Look at the first row\n",
      "id                                              1001001\n",
      "b                                                     1\n",
      "c                                                     1\n",
      "v                                                     1\n",
      "t     In the beginning God created the heaven and th...\n",
      "Name: 0, dtype: object\n",
      "\n",
      "Look at a the half way row\n",
      "id                                             19103002\n",
      "b                                                    19\n",
      "c                                                   103\n",
      "v                                                     2\n",
      "t     Bless the LORD, O my soul, and forget not all ...\n",
      "Name: 15551, dtype: object\n",
      "\n",
      "Look at the last row\n",
      "id                                             66022021\n",
      "b                                                    66\n",
      "c                                                    22\n",
      "v                                                    21\n",
      "t     The grace of our Lord Jesus Christ be with you...\n",
      "Name: 31102, dtype: object\n"
     ]
    }
   ],
   "source": [
    "print(\"Look at the first row\")\n",
    "print(bible.iloc[0])\n",
    "\n",
    "print(\"\\nLook at a the half way row\")\n",
    "print(bible.iloc[int(len(bible) /2)]) \n",
    "\n",
    "print(\"\\nLook at the last row\")\n",
    "print(bible.iloc[len(bible) -1 ]) "
   ]
  },
  {
   "cell_type": "code",
   "execution_count": 5,
   "metadata": {},
   "outputs": [],
   "source": [
    "bible.drop(['id', 'b', 'c', 'v'], axis=1, inplace=True)"
   ]
  },
  {
   "cell_type": "code",
   "execution_count": 7,
   "metadata": {},
   "outputs": [],
   "source": [
    "bible.columns = ['text']"
   ]
  },
  {
   "cell_type": "code",
   "execution_count": 8,
   "metadata": {},
   "outputs": [
    {
     "name": "stdout",
     "output_type": "stream",
     "text": [
      "                                                text\n",
      "0  In the beginning God created the heaven and th...\n",
      "                                                text\n",
      "0  Command Aaron and his sons, saying, This is th...\n"
     ]
    }
   ],
   "source": [
    "print(bible.head(1))\n",
    "bible = bible.sample(frac=1).reset_index(drop=True)\n",
    "print(bible.head(1))"
   ]
  },
  {
   "cell_type": "markdown",
   "metadata": {},
   "source": [
    "## Quran"
   ]
  },
  {
   "cell_type": "code",
   "execution_count": 9,
   "metadata": {},
   "outputs": [
    {
     "name": "stdout",
     "output_type": "stream",
     "text": [
      "Columns: Index(['surah_number', 'verse_number', 'text', 'translation'], dtype='object')\n",
      "Shape: (6236, 4)\n",
      "   surah_number  verse_number                                    text  \\\n",
      "0             1             1  بِسْمِ ٱللَّهِ ٱلرَّحْمَٰنِ ٱلرَّحِيمِ   \n",
      "1             1             2   ٱلْحَمْدُ لِلَّهِ رَبِّ ٱلْعَٰلَمِينَ   \n",
      "\n",
      "                                         translation  \n",
      "0  In the name of Allah, the Entirely Merciful, t...  \n",
      "1  [All] praise is [due] to Allah, Lord of the wo...  \n"
     ]
    }
   ],
   "source": [
    "quran = pd.read_json(path+\"quran.json\")\n",
    "\n",
    "# Print the names of the columns.\n",
    "print(\"Columns: {}\".format(quran.columns))\n",
    "print(\"Shape: {}\".format(quran.shape))\n",
    "print(quran.head(2))"
   ]
  },
  {
   "cell_type": "code",
   "execution_count": 10,
   "metadata": {},
   "outputs": [
    {
     "name": "stdout",
     "output_type": "stream",
     "text": [
      "Look at the first row\n",
      "surah_number                                                    1\n",
      "verse_number                                                    1\n",
      "text                       بِسْمِ ٱللَّهِ ٱلرَّحْمَٰنِ ٱلرَّحِيمِ\n",
      "translation     In the name of Allah, the Entirely Merciful, t...\n",
      "Name: 0, dtype: object\n",
      "\n",
      "Look at a the half way row\n",
      "surah_number                                                   26\n",
      "verse_number                                                  187\n",
      "text            فَأَسْقِطْ عَلَيْنَا كِسَفًا مِّنَ ٱلسَّمَآءِ...\n",
      "translation     So cause to fall upon us fragments of the sky,...\n",
      "Name: 3118, dtype: object\n",
      "\n",
      "Look at the last row\n",
      "surah_number                                  114\n",
      "verse_number                                    6\n",
      "text                   مِنَ ٱلْجِنَّةِ وَٱلنَّاسِ\n",
      "translation     From among the jinn and mankind.\"\n",
      "Name: 6235, dtype: object\n"
     ]
    }
   ],
   "source": [
    "print(\"Look at the first row\")\n",
    "print(quran.iloc[0])\n",
    "\n",
    "print(\"\\nLook at a the half way row\")\n",
    "print(quran.iloc[int(len(quran) /2)]) \n",
    "\n",
    "print(\"\\nLook at the last row\")\n",
    "print(quran.iloc[len(quran) -1 ])"
   ]
  },
  {
   "cell_type": "code",
   "execution_count": 11,
   "metadata": {},
   "outputs": [],
   "source": [
    "quran.drop(['surah_number', 'verse_number', 'text'], axis=1, inplace=True)"
   ]
  },
  {
   "cell_type": "code",
   "execution_count": 12,
   "metadata": {},
   "outputs": [
    {
     "data": {
      "text/plain": [
       "translation    From among the jinn and mankind.\"\n",
       "Name: 6235, dtype: object"
      ]
     },
     "execution_count": 12,
     "metadata": {},
     "output_type": "execute_result"
    }
   ],
   "source": [
    "quran.iloc[len(quran) -1]"
   ]
  },
  {
   "cell_type": "code",
   "execution_count": 13,
   "metadata": {},
   "outputs": [
    {
     "name": "stdout",
     "output_type": "stream",
     "text": [
      "                                         translation\n",
      "0  In the name of Allah, the Entirely Merciful, t...\n",
      "                                         translation\n",
      "0  So when Our command came, We saved Salih and t...\n"
     ]
    }
   ],
   "source": [
    "# Shuffle dataset\n",
    "print(quran.head(1))\n",
    "quran = quran.sample(frac=1).reset_index(drop=True)\n",
    "print(quran.head(1))"
   ]
  },
  {
   "cell_type": "code",
   "execution_count": 14,
   "metadata": {},
   "outputs": [
    {
     "data": {
      "text/plain": [
       "0        Command Aaron and his sons, saying, This is th...\n",
       "1        And for the other side of the tabernacle, whic...\n",
       "2        The chief of the people; Parosh, Pahathmoab, E...\n",
       "3        For the inhabitant of Maroth waited carefully ...\n",
       "4        Woe to thee that spoilest, and thou wast not s...\n",
       "                               ...                        \n",
       "31098    And hast given them this land, which thou dids...\n",
       "31099    And when the words were heard which David spak...\n",
       "31100    The remnant shall return, even the remnant of ...\n",
       "31101    Then the men of the city said unto Joash, Brin...\n",
       "31102    Was it not told my lord what I did when Jezebe...\n",
       "Length: 31103, dtype: object"
      ]
     },
     "execution_count": 14,
     "metadata": {},
     "output_type": "execute_result"
    }
   ],
   "source": [
    "#quran.head(1)\n",
    "bible.max(axis=1)"
   ]
  },
  {
   "cell_type": "markdown",
   "metadata": {},
   "source": [
    "### Union the dataframes together"
   ]
  },
  {
   "cell_type": "code",
   "execution_count": 17,
   "metadata": {},
   "outputs": [],
   "source": [
    "rel_texts = pd.concat([bible, quran], sort=False)"
   ]
  },
  {
   "cell_type": "code",
   "execution_count": 18,
   "metadata": {},
   "outputs": [
    {
     "name": "stdout",
     "output_type": "stream",
     "text": [
      "(37339, 2)\n"
     ]
    }
   ],
   "source": [
    "print(rel_texts.shape)"
   ]
  },
  {
   "cell_type": "code",
   "execution_count": 19,
   "metadata": {},
   "outputs": [
    {
     "name": "stdout",
     "output_type": "stream",
     "text": [
      "                                                text translation\n",
      "0  Command Aaron and his sons, saying, This is th...         NaN\n",
      "  text                                        translation\n",
      "0  NaN  And the evil consequences of what they earned ...\n"
     ]
    }
   ],
   "source": [
    "print(rel_texts.head(1))\n",
    "rel_texts = rel_texts.sample(frac=1).reset_index(drop=True)\n",
    "print(rel_texts.head(1))"
   ]
  },
  {
   "cell_type": "code",
   "execution_count": null,
   "metadata": {},
   "outputs": [],
   "source": []
  },
  {
   "cell_type": "markdown",
   "metadata": {},
   "source": [
    "## Save the new dataframe"
   ]
  },
  {
   "cell_type": "code",
   "execution_count": 21,
   "metadata": {},
   "outputs": [],
   "source": [
    "file_name = final_path + 'religiousTexts.csv'"
   ]
  },
  {
   "cell_type": "code",
   "execution_count": 24,
   "metadata": {},
   "outputs": [],
   "source": [
    "import os\n",
    "if not os.path.isdir(final_path):\n",
    "   os.makedirs(final_path)\n",
    "rel_texts.to_csv(file_name, sep='\\t', encoding='utf-8')"
   ]
  },
  {
   "cell_type": "code",
   "execution_count": null,
   "metadata": {},
   "outputs": [],
   "source": []
  }
 ],
 "metadata": {
  "kernelspec": {
   "display_name": "Python 3",
   "language": "python",
   "name": "python3"
  },
  "language_info": {
   "codemirror_mode": {
    "name": "ipython",
    "version": 3
   },
   "file_extension": ".py",
   "mimetype": "text/x-python",
   "name": "python",
   "nbconvert_exporter": "python",
   "pygments_lexer": "ipython3",
   "version": "3.7.4"
  }
 },
 "nbformat": 4,
 "nbformat_minor": 2
}
